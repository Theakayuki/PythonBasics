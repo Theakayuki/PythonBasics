{
 "cells": [
  {
   "cell_type": "code",
   "execution_count": 15,
   "metadata": {},
   "outputs": [
    {
     "name": "stdout",
     "output_type": "stream",
     "text": [
      "hello World\n"
     ]
    }
   ],
   "source": [
    "# print('hello World')\n",
    "\n",
    "# INDENTATION is the way of python to know where to start the code\n",
    "\n",
    "# if 5 > 2:\n",
    "#     print('5 is greater than 2')\n",
    "\n",
    "# Number of Spaces doesn't matter\n",
    "# if 5 > 2:\n",
    "#  print(\"Five is greater than two!\") \n",
    "# if 5 > 2:\n",
    "#         print(\"Five is greater than two!\") \n",
    "# But in the same block of code, all spaces must be the same\n",
    "\n",
    "# python variables like javascript are created when you assign a value to them\n",
    "# x=5\n",
    "# print(x)\n",
    "# just like javascript its not assigned to a specific type and can change.\n",
    "# x = int(5)\n",
    "# x = 'Hello'\n",
    "# print(x)\n",
    "# event casing it like above with int(), str(), float(), bool(), etc. will not lock it in.\n",
    "# print(type(x)) # will show the type of variable\n",
    "# Variables are Case Sensitive in Python so x and X are different variables\n",
    "# Variables can't start with a number, can't have spaces, can't have symbols, except for _\n",
    "# x, y, z = 'Orange', 'Banana', 'Cherry'\n",
    "# print(x)\n",
    "# print(y)\n",
    "# print(z)\n",
    "# You can also assign multiple variables at once\n",
    "# or you can assign multiple values to a single variable\n",
    "# x = y = z = 'Orange'\n",
    "# print(x)\n",
    "# print(y)\n",
    "# print(z)\n",
    "# Unlike javscript, Variables from array(list) can be unpacked like so:\n",
    "# fruits = ['Apple', 'Banana', 'Cherry']\n",
    "# x, y, z = fruits\n",
    "# print(x)\n",
    "# print(y)\n",
    "# print(z)\n",
    "# Printing multiple variables at once is done with a comma not a +\n",
    "# print('hello world', 5, 5.5, True, False)\n",
    "# Variables can be used globally inside of functions that are defined outside of the function\n",
    "# Example:\n",
    "# x='hello'\n",
    "# def myfunc():\n",
    "#     print(x,'World')\n",
    "# myfunc()\n",
    "\n",
    "# Variables created inside of functions are only available inside of the function like normal\n",
    "# You can use the global keyword to make a variable available outside of the function\n"
   ]
  },
  {
   "cell_type": "markdown",
   "metadata": {},
   "source": [
    "### Python Data Types\n",
    "- Text: str\n",
    "- Numeric: int, float, complex\n",
    "- Sequence: list, tuple, range\n",
    "- Mapping: dict\n",
    "- Set: set, frozenset\n",
    "- Boolean: bool\n",
    "- Binary: bytes, bytearray, memoryview\n",
    "- None: None\n",
    "\n",
    "You can use type() to check the type of a variable  \n",
    "print(type(x))  \n",
    "Data Types can be converted to each other  \n",
    "print(int(5.5))  \n",
    "print(float(5))  \n",
    "print(str(5))  "
   ]
  },
  {
   "cell_type": "code",
   "execution_count": null,
   "metadata": {},
   "outputs": [],
   "source": [
    "# Python Numbers\n",
    "# Integers:\n",
    "# x = 5\n",
    "# print(x)\n",
    "# print(type(x))\n",
    "# Floats:\n",
    "# x = 5.5\n",
    "# print(x)\n",
    "# print(type(x))\n",
    "# Complex Numbers: where j is the imaginary number\n",
    "# x = 5+5j\n",
    "# print(x)\n",
    "# print(type(x))\n",
    "# You can add, subtract, multiply, divide, and exponentiate numbers\n",
    "# print(x+5)\n",
    "# print(x-5)\n",
    "# print(x*5)\n",
    "# print(x/5)\n",
    "# print(x**5)\n",
    "# You can also use the modulo operator to find the remainder of a division\n",
    "# print(x%5)\n",
    "# You can also use the floor division operator to find the floor of a division\n",
    "# print(x//5)\n",
    "# You can also use the float() function to convert a number to a float\n",
    "# print(float(x))\n",
    "# You can also use the int() function to convert a number to an int\n",
    "# print(int(x))\n",
    "# You can also use the round() function to round a number to the nearest integer\n",
    "# print(round(x))\n",
    "# You can also use the abs() function to find the absolute value of a number\n",
    "# print(abs(x))\n",
    "# You can also use the min() and max() functions to find the minimum and maximum of a list of numbers\n",
    "# print(min(x,y))\n",
    "# print(max(x,y))\n",
    "# You can also use the type() function to find the type of a variable\n",
    "# print(type(x))\n",
    "# You can get random numbers using the random module\n",
    "# import random\n",
    "# print(random.randint(1,10))"
   ]
  },
  {
   "cell_type": "code",
   "execution_count": 18,
   "metadata": {},
   "outputs": [
    {
     "name": "stdout",
     "output_type": "stream",
     "text": [
      "HelloHelloHello\n"
     ]
    }
   ],
   "source": [
    "# Python Strings\n",
    "# Strings are created with either single or double quotes\n",
    "# x = 'Hello'\n",
    "# print(x)\n",
    "# print(type(x))\n",
    "# You can use 3 quotes to create a multi-line string\n",
    "# x = \"\"\"This is a multi-line string.\n",
    "# This is the second line.\"\"\"\n",
    "# print(x)\n",
    "# This will include the new line character\n",
    "# You can use the len() function to find the length of a string\n",
    "# As strings are Arrays, you can use the indexing operator to access individual characters\n",
    "# print(x[0])\n",
    "# print(x[1])\n",
    "# Loop through a string:\n",
    "# for i in x:\n",
    "#    print(i)\n",
    "# You can use the + operator to combine strings\n",
    "# print(x+' concatenated with '+y)\n",
    "# You can use the * operator to repeat a string\n",
    "# print(x*3)\n",
    "# To check if a string contains a substring, use the in keyword\n",
    "# print('Hello' in x)\n",
    "# To find the index of a substring, use the find() function\n",
    "# print(x.find('is'))\n",
    "# To replace a substring, use the replace() function\n",
    "# print(x.replace('is','was'))\n",
    "# To split a string into a list, use the split() function\n",
    "# print(x.split())\n",
    "# To join a list into a string, use the join() function\n",
    "# print('-'.join(x))\n",
    "# You can also use the strip() function to remove whitespace from the beginning and end of a string\n",
    "# print(x.strip())\n",
    "# You can also use the lstrip() and rstrip() functions to remove whitespace from the beginning or end of a string\n",
    "# print(x.lstrip())\n",
    "# print(x.rstrip())\n",
    "# You can also use the lower() and upper() functions to convert a string to lowercase or uppercase\n",
    "# print(x.lower())\n",
    "# print(x.upper())\n",
    "# You can Slice a string to get a substring\n",
    "# print(x[0:3]) # will print the first 3 characters\n",
    "# print(x[:3]) # will print the first 3 characters\n",
    "# print(x[3:]) # will print the last 3 characters\n",
    "\n",
    "# format strings\n",
    "# x = 'Hello'\n",
    "# y = 'World'\n",
    "# print('{} {}'.format(x,y))\n",
    "# print('{1} {0}'.format(x,y))\n",
    "# print('{x} {y}'.format(x=x,y=y))\n",
    "# print('{x} {y}'.format(y=y,x=x))\n",
    "# print('{0} {1}'.format(x,y))\n",
    "# print('{1} {0}'.format(x,y))\n",
    "\n",
    "# Excape Characters\n",
    "# print('This is a string. \\nThis is the second line.')\n",
    "# print('C:\\\\Users\\\\John Doe')\n",
    "\n"
   ]
  },
  {
   "cell_type": "code",
   "execution_count": null,
   "metadata": {},
   "outputs": [],
   "source": [
    "# Python boolean: True or False\n",
    "# Standard boolean operators are: and, or, not"
   ]
  },
  {
   "cell_type": "code",
   "execution_count": 44,
   "metadata": {},
   "outputs": [
    {
     "name": "stdout",
     "output_type": "stream",
     "text": [
      "{'banana', 'apple', 'cherry'}\n",
      "{'banana', 'apple', 'cherry'}\n"
     ]
    }
   ],
   "source": [
    "# Python Lists\n",
    "# thisList = [\"apple\", \"banana\", \"cherry\"]\n",
    "# print(len(thisList))\n",
    "# lists can have multiple data types\n",
    "# thisList = [\"apple\", \"banana\", \"cherry\", 1, 2, 3]\n",
    "# print(type(thisList))\n",
    "# thisSet = {'apple', 'banana', 'cherry'}\n",
    "# print(thisSet)\n",
    "# Python Dictionaries is like javascripts objects\n",
    "# Python lists Support - indexing, slicing, and length\n",
    "# Python Lists are Arrays\n",
    "# Python Lists can be added with the + operator\n",
    "# print(thisList + thisList)\n",
    "# Python Lists Methods\n",
    "# .append() - adds an element at the end of the list\n",
    "# .extend() - adds all the elements of a list\n",
    "# .insert() - inserts an element at the specified position\n",
    "# .remove() - removes the specified item\n",
    "# .pop() - removes the specified index\n",
    "# .clear() - removes all the elements from the list\n",
    "# .index() - returns the index of the specified item\n",
    "# .count() - returns the number of times a specified value occurs in the list\n",
    "# .sort() - sorts the list\n",
    "# .reverse() - reverses the order of the items in the list\n",
    "\n",
    "# Loop through a list:\n",
    "# thisList = [\"apple\", \"banana\", \"cherry\"]\n",
    "# for x in thisList:\n",
    "#     print(x)\n",
    "# Loop through a list with index:\n",
    "# thisList = [\"apple\", \"banana\", \"cherry\"]\n",
    "# for x in range(len(thisList)):\n",
    "#     print(thisList[x])\n",
    "# Looping with List Comprehension:\n",
    "# thisList = [\"apple\", \"banana\", \"cherry\"]\n",
    "# [print(x) for x in thisList]\n",
    "#List comprehension offers a shorter syntax when you want to create a new list based on the values of an existing list.\n",
    "# Turning: ['a', 'b', 'c'] into: ['A', 'B', 'C']\n",
    "# thisList = [\"apple\", \"banana\", \"cherry\"]\n",
    "# newList = []\n",
    "# for x in thisList:\n",
    "#     newList.append(x.upper())\n",
    "# print(newList)\n",
    "# List Comprehension:\n",
    "# thisList = [\"apple\", \"banana\", \"cherry\"]\n",
    "# newList = [x.upper() for x in thisList]\n",
    "# print(newList)\n",
    "# List sorting:\n",
    "# thisList = [\"apple\", \"banana\", \"cherry\"]\n",
    "# thisList.sort() # sorts in place\n",
    "# print(thisList)\n",
    "# thisList.reverse() # reverse the order of the list\n",
    "# print(thisList)\n",
    "# thisList.sort(reverse=True) # sort in reverse order\n",
    "# print(thisList)\n",
    "# thisList.sort(key=len) # sort by length of the string\n",
    "# print(thisList)\n",
    "# thisList.sort(key=str.lower) # sort the list without case sensitivity\n",
    "\n"
   ]
  },
  {
   "cell_type": "code",
   "execution_count": 47,
   "metadata": {},
   "outputs": [
    {
     "name": "stdout",
     "output_type": "stream",
     "text": [
      "2020-01-01 00:00:00\n",
      "1\n",
      "Wednesday\n"
     ]
    }
   ],
   "source": [
    "import datetime\n",
    "\n",
    "x = datetime.datetime(2020, 5, 17)\n",
    "\n",
    "# change x date to a different date\n",
    "\n",
    "x = x.replace(year=2020, month=1, day=1)\n",
    "\n",
    "print(x)\n",
    "print(x.month)\n",
    "print(x.strftime(\"%A\"))"
   ]
  },
  {
   "cell_type": "code",
   "execution_count": 48,
   "metadata": {},
   "outputs": [
    {
     "name": "stdout",
     "output_type": "stream",
     "text": [
      "Hello testing\n"
     ]
    }
   ],
   "source": [
    "username = input(\"Enter your name: \")\n",
    "print(\"Hello \" + username)"
   ]
  },
  {
   "cell_type": "code",
   "execution_count": 51,
   "metadata": {},
   "outputs": [
    {
     "name": "stdout",
     "output_type": "stream",
     "text": [
      "89.76923076923077\n",
      "87.0\n",
      "ModeResult(mode=array([86]), count=array([3]))\n"
     ]
    }
   ],
   "source": [
    "import numpy as np\n",
    "from scipy import stats\n",
    "\n",
    "speed = [99,86,87,88,111,86,103,87,94,78,77,85,86]\n",
    "\n",
    "x = np.mean(speed)\n",
    "\n",
    "print(x)\n",
    "print(np.median(speed))\n",
    "print(stats.mode(speed))"
   ]
  },
  {
   "cell_type": "code",
   "execution_count": 55,
   "metadata": {},
   "outputs": [
    {
     "name": "stdout",
     "output_type": "stream",
     "text": [
      "37.84501153334721\n",
      "1432.2448979591834\n"
     ]
    }
   ],
   "source": [
    "speed = [32,111,138,28,59,77,97]\n",
    "print(np.std(speed))\n",
    "\n",
    "variance = np.var(speed)\n",
    "print(variance)"
   ]
  }
 ],
 "metadata": {
  "interpreter": {
   "hash": "369f2c481f4da34e4445cda3fffd2e751bd1c4d706f27375911949ba6bb62e1c"
  },
  "kernelspec": {
   "display_name": "Python 3.10.4 64-bit",
   "language": "python",
   "name": "python3"
  },
  "language_info": {
   "codemirror_mode": {
    "name": "ipython",
    "version": 3
   },
   "file_extension": ".py",
   "mimetype": "text/x-python",
   "name": "python",
   "nbconvert_exporter": "python",
   "pygments_lexer": "ipython3",
   "version": "3.10.4"
  },
  "orig_nbformat": 4
 },
 "nbformat": 4,
 "nbformat_minor": 2
}
